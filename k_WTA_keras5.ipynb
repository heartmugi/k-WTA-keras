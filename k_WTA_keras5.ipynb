{
 "cells": [
  {
   "cell_type": "markdown",
   "metadata": {
    "id": "IpYgko9QarAK"
   },
   "source": [
    "# 準備"
   ]
  },
  {
   "cell_type": "markdown",
   "metadata": {
    "id": "pCaVa2R5bq_4"
   },
   "source": [
    "## artのインストール"
   ]
  },
  {
   "cell_type": "code",
   "execution_count": null,
   "metadata": {
    "id": "QoNsAnXUmgST"
   },
   "outputs": [],
   "source": [
    "!pip3 install adversarial-robustness-toolbox"
   ]
  },
  {
   "cell_type": "markdown",
   "metadata": {
    "id": "Us1-UrOXaw87"
   },
   "source": [
    "## ライブラリのインポート"
   ]
  },
  {
   "cell_type": "code",
   "execution_count": 1,
   "metadata": {
    "id": "wF3Foi62mnPi"
   },
   "outputs": [],
   "source": [
    "import random\n",
    "import numpy as np\n",
    "import matplotlib.pyplot as plt\n",
    "\n",
    "# TensorFlow with Keras.\n",
    "import tensorflow as tf\n",
    "import keras\n",
    "from keras.models import Model\n",
    "from keras.layers import Input, Dense, Flatten, Conv2D, Lambda\n",
    "from keras.layers import MaxPooling2D, GlobalAveragePooling2D, Dropout\n",
    "tf.compat.v1.disable_eager_execution()\n",
    "from keras import backend as K\n",
    "\n",
    "# ART\n",
    "import art\n",
    "from art.attacks.evasion import FastGradientMethod\n",
    "from art.estimators.classification import KerasClassifier"
   ]
  },
  {
   "cell_type": "markdown",
   "metadata": {
    "id": "qsjVGzIwaz1c"
   },
   "source": [
    "## CIFAR10のロード・前処理"
   ]
  },
  {
   "cell_type": "code",
   "execution_count": 2,
   "metadata": {
    "id": "NJn7yF4_mwM_"
   },
   "outputs": [],
   "source": [
    "# CIFAR10のロード。\n",
    "(X_train, y_train), (X_test, y_test) = tf.keras.datasets.cifar10.load_data()\n",
    "\n",
    "# CIFAR10のラベル。\n",
    "classes = ['airplane', 'automobile', 'bird', 'cat', 'deer', 'dog', 'frog', 'horse', 'ship', 'truck']\n",
    "num_classes = len(classes)"
   ]
  },
  {
   "cell_type": "code",
   "execution_count": 3,
   "metadata": {
    "id": "9zOnIFWanCRE"
   },
   "outputs": [],
   "source": [
    "# 正規化。\n",
    "X_train = X_train.astype('float32') / 255\n",
    "X_test = X_test.astype('float32') / 255\n",
    "\n",
    "# ラベルをOne-hot-vector化。\n",
    "y_train = tf.keras.utils.to_categorical(y_train, num_classes)\n",
    "y_test = tf.keras.utils.to_categorical(y_test, num_classes)"
   ]
  },
  {
   "cell_type": "markdown",
   "metadata": {
    "id": "BIh32W6raz6l"
   },
   "source": [
    "# Classifier(k-WTAなし)の作成\n",
    "\n"
   ]
  },
  {
   "cell_type": "markdown",
   "metadata": {
    "id": "VYm8pYF6btOr"
   },
   "source": [
    "## モデル定義"
   ]
  },
  {
   "cell_type": "code",
   "execution_count": null,
   "metadata": {
    "colab": {
     "base_uri": "https://localhost:8080/"
    },
    "id": "GkhVRmdcnG4G",
    "outputId": "fbe6bd83-74b9-47db-a2df-c18e4789d7ee"
   },
   "outputs": [
    {
     "name": "stdout",
     "output_type": "stream",
     "text": [
      "Model: \"model_17\"\n",
      "_________________________________________________________________\n",
      "Layer (type)                 Output Shape              Param #   \n",
      "=================================================================\n",
      "input_31 (InputLayer)        [(None, 32, 32, 3)]       0         \n",
      "_________________________________________________________________\n",
      "conv2d_116 (Conv2D)          (None, 32, 32, 64)        1792      \n",
      "_________________________________________________________________\n",
      "conv2d_117 (Conv2D)          (None, 32, 32, 64)        36928     \n",
      "_________________________________________________________________\n",
      "dropout_81 (Dropout)         (None, 32, 32, 64)        0         \n",
      "_________________________________________________________________\n",
      "max_pooling2d_34 (MaxPooling (None, 16, 16, 64)        0         \n",
      "_________________________________________________________________\n",
      "conv2d_118 (Conv2D)          (None, 16, 16, 128)       73856     \n",
      "_________________________________________________________________\n",
      "conv2d_119 (Conv2D)          (None, 16, 16, 128)       147584    \n",
      "_________________________________________________________________\n",
      "dropout_82 (Dropout)         (None, 16, 16, 128)       0         \n",
      "_________________________________________________________________\n",
      "max_pooling2d_35 (MaxPooling (None, 8, 8, 128)         0         \n",
      "_________________________________________________________________\n",
      "conv2d_120 (Conv2D)          (None, 8, 8, 256)         295168    \n",
      "_________________________________________________________________\n",
      "conv2d_121 (Conv2D)          (None, 8, 8, 256)         590080    \n",
      "_________________________________________________________________\n",
      "global_average_pooling2d_17  (None, 256)               0         \n",
      "_________________________________________________________________\n",
      "dense_64 (Dense)             (None, 1024)              263168    \n",
      "_________________________________________________________________\n",
      "dropout_83 (Dropout)         (None, 1024)              0         \n",
      "_________________________________________________________________\n",
      "dense_65 (Dense)             (None, 10)                10250     \n",
      "=================================================================\n",
      "Total params: 1,418,826\n",
      "Trainable params: 1,418,826\n",
      "Non-trainable params: 0\n",
      "_________________________________________________________________\n"
     ]
    }
   ],
   "source": [
    "# モデルの定義。\n",
    "inputs = Input(shape=(32, 32, 3))\n",
    "x = Conv2D(64, (3, 3), padding='SAME', activation='relu')(inputs)\n",
    "x = Conv2D(64, (3, 3), padding='SAME', activation='relu')(x)\n",
    "x = Dropout(0.25)(x)\n",
    "x = MaxPooling2D()(x)\n",
    "\n",
    "x = Conv2D(128, (3,3), padding='SAME', activation='relu')(x)\n",
    "x = Conv2D(128, (3,3), padding='SAME', activation='relu')(x)\n",
    "x = Dropout(0.25)(x)\n",
    "x = MaxPooling2D()(x)\n",
    "\n",
    "x = Conv2D(256, (3,3), padding='SAME', activation='relu')(x)\n",
    "x = Conv2D(256, (3,3), padding='SAME', activation='relu')(x)\n",
    "x = GlobalAveragePooling2D()(x)\n",
    "\n",
    "x = Dense(1024, activation='relu')(x)\n",
    "x = Dropout(0.25)(x)\n",
    "y = Dense(10, activation='softmax')(x)\n",
    "\n",
    "model = Model(inputs, y)\n",
    "\n",
    "# モデルのコンパイル。\n",
    "model.compile(optimizer=tf.keras.optimizers.Adam(),\n",
    "              loss='categorical_crossentropy',\n",
    "              metrics=['accuracy'])\n",
    "model.summary()"
   ]
  },
  {
   "cell_type": "markdown",
   "metadata": {
    "id": "gwFlvnrDbH7N"
   },
   "source": [
    "## 学習の実行"
   ]
  },
  {
   "cell_type": "markdown",
   "metadata": {
    "id": "l9TbV14fbSGI"
   },
   "source": [
    "## モデルの精度評価"
   ]
  },
  {
   "cell_type": "code",
   "execution_count": null,
   "metadata": {
    "colab": {
     "background_save": true,
     "base_uri": "https://localhost:8080/"
    },
    "id": "iRnFClSCnKP-",
    "outputId": "6cb47b9b-56fd-4527-f5cd-287a8ab777e6"
   },
   "outputs": [
    {
     "name": "stdout",
     "output_type": "stream",
     "text": [
      "Train on 50000 samples, validate on 10000 samples\n",
      "Epoch 1/30\n"
     ]
    },
    {
     "ename": "KeyboardInterrupt",
     "evalue": "",
     "output_type": "error",
     "traceback": [
      "\u001b[0;31m---------------------------------------------------------------------------\u001b[0m",
      "\u001b[0;31mKeyboardInterrupt\u001b[0m                         Traceback (most recent call last)",
      "\u001b[0;32m/var/folders/dv/_837vmqs5yl0tklsbq8k7mdm0000gn/T/ipykernel_94883/545656769.py\u001b[0m in \u001b[0;36m<module>\u001b[0;34m\u001b[0m\n\u001b[1;32m      4\u001b[0m           \u001b[0mepochs\u001b[0m\u001b[0;34m=\u001b[0m\u001b[0;36m30\u001b[0m\u001b[0;34m,\u001b[0m\u001b[0;34m\u001b[0m\u001b[0;34m\u001b[0m\u001b[0m\n\u001b[1;32m      5\u001b[0m           \u001b[0mvalidation_data\u001b[0m\u001b[0;34m=\u001b[0m\u001b[0;34m(\u001b[0m\u001b[0mX_test\u001b[0m\u001b[0;34m,\u001b[0m \u001b[0my_test\u001b[0m\u001b[0;34m)\u001b[0m\u001b[0;34m,\u001b[0m\u001b[0;34m\u001b[0m\u001b[0;34m\u001b[0m\u001b[0m\n\u001b[0;32m----> 6\u001b[0;31m           shuffle=True)\n\u001b[0m",
      "\u001b[0;32m~/opt/anaconda3/envs/k-wta/lib/python3.7/site-packages/keras/engine/training_v1.py\u001b[0m in \u001b[0;36mfit\u001b[0;34m(self, x, y, batch_size, epochs, verbose, callbacks, validation_split, validation_data, shuffle, class_weight, sample_weight, initial_epoch, steps_per_epoch, validation_steps, validation_freq, max_queue_size, workers, use_multiprocessing, **kwargs)\u001b[0m\n\u001b[1;32m    794\u001b[0m         \u001b[0mmax_queue_size\u001b[0m\u001b[0;34m=\u001b[0m\u001b[0mmax_queue_size\u001b[0m\u001b[0;34m,\u001b[0m\u001b[0;34m\u001b[0m\u001b[0;34m\u001b[0m\u001b[0m\n\u001b[1;32m    795\u001b[0m         \u001b[0mworkers\u001b[0m\u001b[0;34m=\u001b[0m\u001b[0mworkers\u001b[0m\u001b[0;34m,\u001b[0m\u001b[0;34m\u001b[0m\u001b[0;34m\u001b[0m\u001b[0m\n\u001b[0;32m--> 796\u001b[0;31m         use_multiprocessing=use_multiprocessing)\n\u001b[0m\u001b[1;32m    797\u001b[0m \u001b[0;34m\u001b[0m\u001b[0m\n\u001b[1;32m    798\u001b[0m   def evaluate(self,\n",
      "\u001b[0;32m~/opt/anaconda3/envs/k-wta/lib/python3.7/site-packages/keras/engine/training_arrays_v1.py\u001b[0m in \u001b[0;36mfit\u001b[0;34m(self, model, x, y, batch_size, epochs, verbose, callbacks, validation_split, validation_data, shuffle, class_weight, sample_weight, initial_epoch, steps_per_epoch, validation_steps, validation_freq, **kwargs)\u001b[0m\n\u001b[1;32m    655\u001b[0m         \u001b[0mvalidation_steps\u001b[0m\u001b[0;34m=\u001b[0m\u001b[0mvalidation_steps\u001b[0m\u001b[0;34m,\u001b[0m\u001b[0;34m\u001b[0m\u001b[0;34m\u001b[0m\u001b[0m\n\u001b[1;32m    656\u001b[0m         \u001b[0mvalidation_freq\u001b[0m\u001b[0;34m=\u001b[0m\u001b[0mvalidation_freq\u001b[0m\u001b[0;34m,\u001b[0m\u001b[0;34m\u001b[0m\u001b[0;34m\u001b[0m\u001b[0m\n\u001b[0;32m--> 657\u001b[0;31m         steps_name='steps_per_epoch')\n\u001b[0m\u001b[1;32m    658\u001b[0m \u001b[0;34m\u001b[0m\u001b[0m\n\u001b[1;32m    659\u001b[0m   def evaluate(self,\n",
      "\u001b[0;32m~/opt/anaconda3/envs/k-wta/lib/python3.7/site-packages/keras/engine/training_arrays_v1.py\u001b[0m in \u001b[0;36mmodel_iteration\u001b[0;34m(model, inputs, targets, sample_weights, batch_size, epochs, verbose, callbacks, val_inputs, val_targets, val_sample_weights, shuffle, initial_epoch, steps_per_epoch, validation_steps, validation_freq, mode, validation_in_fit, prepared_feed_values_from_dataset, steps_name, **kwargs)\u001b[0m\n\u001b[1;32m    374\u001b[0m \u001b[0;34m\u001b[0m\u001b[0m\n\u001b[1;32m    375\u001b[0m         \u001b[0;31m# Get outputs.\u001b[0m\u001b[0;34m\u001b[0m\u001b[0;34m\u001b[0m\u001b[0;34m\u001b[0m\u001b[0m\n\u001b[0;32m--> 376\u001b[0;31m         \u001b[0mbatch_outs\u001b[0m \u001b[0;34m=\u001b[0m \u001b[0mf\u001b[0m\u001b[0;34m(\u001b[0m\u001b[0mins_batch\u001b[0m\u001b[0;34m)\u001b[0m\u001b[0;34m\u001b[0m\u001b[0;34m\u001b[0m\u001b[0m\n\u001b[0m\u001b[1;32m    377\u001b[0m         \u001b[0;32mif\u001b[0m \u001b[0;32mnot\u001b[0m \u001b[0misinstance\u001b[0m\u001b[0;34m(\u001b[0m\u001b[0mbatch_outs\u001b[0m\u001b[0;34m,\u001b[0m \u001b[0mlist\u001b[0m\u001b[0;34m)\u001b[0m\u001b[0;34m:\u001b[0m\u001b[0;34m\u001b[0m\u001b[0;34m\u001b[0m\u001b[0m\n\u001b[1;32m    378\u001b[0m           \u001b[0mbatch_outs\u001b[0m \u001b[0;34m=\u001b[0m \u001b[0;34m[\u001b[0m\u001b[0mbatch_outs\u001b[0m\u001b[0;34m]\u001b[0m\u001b[0;34m\u001b[0m\u001b[0;34m\u001b[0m\u001b[0m\n",
      "\u001b[0;32m~/opt/anaconda3/envs/k-wta/lib/python3.7/site-packages/keras/backend.py\u001b[0m in \u001b[0;36m__call__\u001b[0;34m(self, inputs)\u001b[0m\n\u001b[1;32m   4030\u001b[0m \u001b[0;34m\u001b[0m\u001b[0m\n\u001b[1;32m   4031\u001b[0m     fetched = self._callable_fn(*array_vals,\n\u001b[0;32m-> 4032\u001b[0;31m                                 run_metadata=self.run_metadata)\n\u001b[0m\u001b[1;32m   4033\u001b[0m     \u001b[0mself\u001b[0m\u001b[0;34m.\u001b[0m\u001b[0m_call_fetch_callbacks\u001b[0m\u001b[0;34m(\u001b[0m\u001b[0mfetched\u001b[0m\u001b[0;34m[\u001b[0m\u001b[0;34m-\u001b[0m\u001b[0mlen\u001b[0m\u001b[0;34m(\u001b[0m\u001b[0mself\u001b[0m\u001b[0;34m.\u001b[0m\u001b[0m_fetches\u001b[0m\u001b[0;34m)\u001b[0m\u001b[0;34m:\u001b[0m\u001b[0;34m]\u001b[0m\u001b[0;34m)\u001b[0m\u001b[0;34m\u001b[0m\u001b[0;34m\u001b[0m\u001b[0m\n\u001b[1;32m   4034\u001b[0m     output_structure = tf.nest.pack_sequence_as(\n",
      "\u001b[0;32m~/opt/anaconda3/envs/k-wta/lib/python3.7/site-packages/tensorflow/python/client/session.py\u001b[0m in \u001b[0;36m__call__\u001b[0;34m(self, *args, **kwargs)\u001b[0m\n\u001b[1;32m   1478\u001b[0m         ret = tf_session.TF_SessionRunCallable(self._session._session,\n\u001b[1;32m   1479\u001b[0m                                                \u001b[0mself\u001b[0m\u001b[0;34m.\u001b[0m\u001b[0m_handle\u001b[0m\u001b[0;34m,\u001b[0m \u001b[0margs\u001b[0m\u001b[0;34m,\u001b[0m\u001b[0;34m\u001b[0m\u001b[0;34m\u001b[0m\u001b[0m\n\u001b[0;32m-> 1480\u001b[0;31m                                                run_metadata_ptr)\n\u001b[0m\u001b[1;32m   1481\u001b[0m         \u001b[0;32mif\u001b[0m \u001b[0mrun_metadata\u001b[0m\u001b[0;34m:\u001b[0m\u001b[0;34m\u001b[0m\u001b[0;34m\u001b[0m\u001b[0m\n\u001b[1;32m   1482\u001b[0m           \u001b[0mproto_data\u001b[0m \u001b[0;34m=\u001b[0m \u001b[0mtf_session\u001b[0m\u001b[0;34m.\u001b[0m\u001b[0mTF_GetBuffer\u001b[0m\u001b[0;34m(\u001b[0m\u001b[0mrun_metadata_ptr\u001b[0m\u001b[0;34m)\u001b[0m\u001b[0;34m\u001b[0m\u001b[0;34m\u001b[0m\u001b[0m\n",
      "\u001b[0;31mKeyboardInterrupt\u001b[0m: "
     ]
    }
   ],
   "source": [
    "# 学習の実行。\n",
    "model.fit(X_train, y_train,\n",
    "          batch_size=512,\n",
    "          epochs=30,\n",
    "          validation_data=(X_test, y_test),\n",
    "          shuffle=True)"
   ]
  },
  {
   "cell_type": "code",
   "execution_count": null,
   "metadata": {
    "id": "S656RWtknM8r"
   },
   "outputs": [],
   "source": [
    "model.evaluate(X_test, y_test)"
   ]
  },
  {
   "cell_type": "markdown",
   "metadata": {
    "id": "1P3oVot2qMdb"
   },
   "source": [
    "# Classifier(k-WTAあり)の作成"
   ]
  },
  {
   "cell_type": "markdown",
   "metadata": {
    "id": "jLjl3-B6qmH9"
   },
   "source": [
    "## k-WTAの作成"
   ]
  },
  {
   "cell_type": "code",
   "execution_count": 12,
   "metadata": {
    "id": "q4fSArArqorP"
   },
   "outputs": [],
   "source": [
    "class KWTA(tf.keras.layers.Layer):\n",
    "  def __init__(self, k=None, **kwargs) :\n",
    "    super().__init__(**kwargs)\n",
    "    self.k = k\n",
    "\n",
    "  def call(self, x):\n",
    "    n = x[0].shape[0]\n",
    "    if self.k == None:\n",
    "            k = n * 1 // 10\n",
    "    else:\n",
    "            k = self.k\n",
    "    topk = tf.math.top_k(x[0], k=k)   # 上位k個の値を抽出\n",
    "    topk_min = K.min(topk.values)         # topkの最小値を抽出\n",
    "    comp = tf.dtypes.cast(x >= topk_min, tf.float32)   # topkの最小値以上の値の部分を1, より小さい値の部分を0にしたTensorを生成\n",
    "    return tf.math.multiply(x,comp)        # x * compより、topkの最小値以上の値のみそのまま、他は0になるようにする\n",
    "\n",
    "class KWTA2D(tf.keras.layers.Layer):\n",
    "    def __init__(self, k=None, **kwargs):\n",
    "        super().__init__(**kwargs)\n",
    "        self.k = k\n",
    "        \n",
    "    def call(self, x):\n",
    "        n = x[0].shape[0] * x[0].shape[1] * x[0].shape[2]\n",
    "        if self.k == None:\n",
    "            k = n * 1 // 10\n",
    "        else:\n",
    "            k = self.k\n",
    "        x_flatten = tf.reshape(x[0],  [n])\n",
    "        topk = tf.math.top_k(x_flatten, k=k)\n",
    "        topk_min = K.min(topk.values) \n",
    "        comp = tf.dtypes.cast(x >= topk_min, tf.float32)\n",
    "        return tf.math.multiply(x,comp)"
   ]
  },
  {
   "cell_type": "markdown",
   "metadata": {
    "id": "PekcoaIBqQtm"
   },
   "source": [
    "## モデル定義"
   ]
  },
  {
   "cell_type": "code",
   "execution_count": 13,
   "metadata": {
    "id": "aXYxX_ckqXho",
    "outputId": "adbc6fee-6d00-490d-cd88-1afece50e28c"
   },
   "outputs": [
    {
     "name": "stdout",
     "output_type": "stream",
     "text": [
      "Model: \"model\"\n",
      "_________________________________________________________________\n",
      "Layer (type)                 Output Shape              Param #   \n",
      "=================================================================\n",
      "input_4 (InputLayer)         [(None, 32, 32, 3)]       0         \n",
      "_________________________________________________________________\n",
      "conv2d_18 (Conv2D)           (None, 32, 32, 64)        1792      \n",
      "_________________________________________________________________\n",
      "kwt_a2d_18 (KWTA2D)          (None, 32, 32, 64)        0         \n",
      "_________________________________________________________________\n",
      "conv2d_19 (Conv2D)           (None, 32, 32, 64)        36928     \n",
      "_________________________________________________________________\n",
      "kwt_a2d_19 (KWTA2D)          (None, 32, 32, 64)        0         \n",
      "_________________________________________________________________\n",
      "dropout_6 (Dropout)          (None, 32, 32, 64)        0         \n",
      "_________________________________________________________________\n",
      "max_pooling2d_6 (MaxPooling2 (None, 16, 16, 64)        0         \n",
      "_________________________________________________________________\n",
      "conv2d_20 (Conv2D)           (None, 16, 16, 128)       73856     \n",
      "_________________________________________________________________\n",
      "kwt_a2d_20 (KWTA2D)          (None, 16, 16, 128)       0         \n",
      "_________________________________________________________________\n",
      "conv2d_21 (Conv2D)           (None, 16, 16, 128)       147584    \n",
      "_________________________________________________________________\n",
      "kwt_a2d_21 (KWTA2D)          (None, 16, 16, 128)       0         \n",
      "_________________________________________________________________\n",
      "dropout_7 (Dropout)          (None, 16, 16, 128)       0         \n",
      "_________________________________________________________________\n",
      "max_pooling2d_7 (MaxPooling2 (None, 8, 8, 128)         0         \n",
      "_________________________________________________________________\n",
      "conv2d_22 (Conv2D)           (None, 8, 8, 256)         295168    \n",
      "_________________________________________________________________\n",
      "kwt_a2d_22 (KWTA2D)          (None, 8, 8, 256)         0         \n",
      "_________________________________________________________________\n",
      "conv2d_23 (Conv2D)           (None, 8, 8, 256)         590080    \n",
      "_________________________________________________________________\n",
      "kwt_a2d_23 (KWTA2D)          (None, 8, 8, 256)         0         \n",
      "_________________________________________________________________\n",
      "global_average_pooling2d_3 ( (None, 256)               0         \n",
      "_________________________________________________________________\n",
      "dense_3 (Dense)              (None, 1024)              263168    \n",
      "_________________________________________________________________\n",
      "kwta_3 (KWTA)                (None, 1024)              0         \n",
      "_________________________________________________________________\n",
      "dropout_8 (Dropout)          (None, 1024)              0         \n",
      "_________________________________________________________________\n",
      "dense_4 (Dense)              (None, 10)                10250     \n",
      "=================================================================\n",
      "Total params: 1,418,826\n",
      "Trainable params: 1,418,826\n",
      "Non-trainable params: 0\n",
      "_________________________________________________________________\n"
     ]
    },
    {
     "name": "stderr",
     "output_type": "stream",
     "text": [
      "/Users/harada/opt/anaconda3/envs/k-wta/lib/python3.7/site-packages/keras/optimizer_v2/optimizer_v2.py:356: UserWarning: The `lr` argument is deprecated, use `learning_rate` instead.\n",
      "  \"The `lr` argument is deprecated, use `learning_rate` instead.\")\n"
     ]
    }
   ],
   "source": [
    "# モデルの定義。\n",
    "inputs = Input(shape=(32, 32, 3))\n",
    "x = Conv2D(64, (3, 3), padding='SAME')(inputs)\n",
    "x = KWTA2D()(x)\n",
    "x = Conv2D(64, (3, 3), padding='SAME')(x)\n",
    "x = KWTA2D()(x)\n",
    "x = Dropout(0.25)(x)\n",
    "x = MaxPooling2D()(x)\n",
    "\n",
    "x = Conv2D(128, (3,3), padding='SAME')(x)\n",
    "x = KWTA2D()(x)\n",
    "x = Conv2D(128, (3,3), padding='SAME')(x)\n",
    "x = KWTA2D()(x)\n",
    "x = Dropout(0.25)(x)\n",
    "x = MaxPooling2D()(x)\n",
    "\n",
    "x = Conv2D(256, (3,3), padding='SAME')(x)\n",
    "x = KWTA2D()(x)\n",
    "x = Conv2D(256, (3,3), padding='SAME')(x)\n",
    "x = KWTA2D()(x)\n",
    "x = GlobalAveragePooling2D()(x)\n",
    "\n",
    "x = Dense(1024)(x)\n",
    "x = KWTA()(x)\n",
    "x = Dropout(0.25)(x)\n",
    "y = Dense(10, activation='softmax')(x)\n",
    "\n",
    "model_kwta = Model(inputs, y)\n",
    "\n",
    "# モデルのコンパイル。\n",
    "model_kwta.compile(optimizer=tf.keras.optimizers.Adam(lr=0.001, beta_1=0.9, beta_2=0.999),\n",
    "              loss='categorical_crossentropy',\n",
    "              metrics=['accuracy'])\n",
    "model_kwta.summary()"
   ]
  },
  {
   "cell_type": "markdown",
   "metadata": {
    "id": "9NuJ90N8AsQZ"
   },
   "source": [
    "## 学習の実行"
   ]
  },
  {
   "cell_type": "code",
   "execution_count": 14,
   "metadata": {
    "id": "hYkVnIT9Ak0g",
    "outputId": "59841065-5e6b-42f3-d6e9-107e57fb8034"
   },
   "outputs": [
    {
     "name": "stdout",
     "output_type": "stream",
     "text": [
      "Train on 50000 samples, validate on 10000 samples\n"
     ]
    },
    {
     "name": "stderr",
     "output_type": "stream",
     "text": [
      "2021-10-31 18:19:19.459524: I tensorflow/core/platform/cpu_feature_guard.cc:142] This TensorFlow binary is optimized with oneAPI Deep Neural Network Library (oneDNN) to use the following CPU instructions in performance-critical operations:  AVX2 FMA\n",
      "To enable them in other operations, rebuild TensorFlow with the appropriate compiler flags.\n"
     ]
    },
    {
     "name": "stdout",
     "output_type": "stream",
     "text": [
      "Epoch 1/30\n",
      "50000/50000 [==============================] - ETA: 0s - loss: 2.2579 - accuracy: 0.1458"
     ]
    },
    {
     "name": "stderr",
     "output_type": "stream",
     "text": [
      "/Users/harada/opt/anaconda3/envs/k-wta/lib/python3.7/site-packages/keras/engine/training.py:2470: UserWarning: `Model.state_updates` will be removed in a future version. This property should not be used in TensorFlow 2.0, as `updates` are applied automatically.\n",
      "  warnings.warn('`Model.state_updates` will be removed in a future version. '\n"
     ]
    },
    {
     "name": "stdout",
     "output_type": "stream",
     "text": [
      "50000/50000 [==============================] - 227s 5ms/sample - loss: 2.2579 - accuracy: 0.1458 - val_loss: 2.2150 - val_accuracy: 0.1632\n",
      "Epoch 2/30\n",
      "50000/50000 [==============================] - 230s 5ms/sample - loss: 2.0797 - accuracy: 0.2039 - val_loss: 2.0858 - val_accuracy: 0.2265\n",
      "Epoch 3/30\n",
      "50000/50000 [==============================] - 228s 5ms/sample - loss: 1.9107 - accuracy: 0.2662 - val_loss: 1.7428 - val_accuracy: 0.3428\n",
      "Epoch 4/30\n",
      "50000/50000 [==============================] - 230s 5ms/sample - loss: 1.7153 - accuracy: 0.3410 - val_loss: 1.6507 - val_accuracy: 0.3825\n",
      "Epoch 5/30\n",
      "50000/50000 [==============================] - 232s 5ms/sample - loss: 1.6466 - accuracy: 0.3758 - val_loss: 1.5770 - val_accuracy: 0.4030\n",
      "Epoch 6/30\n",
      "50000/50000 [==============================] - 231s 5ms/sample - loss: 1.4866 - accuracy: 0.4458 - val_loss: 1.4305 - val_accuracy: 0.4710\n",
      "Epoch 7/30\n",
      "50000/50000 [==============================] - 232s 5ms/sample - loss: 1.3558 - accuracy: 0.4985 - val_loss: 1.3528 - val_accuracy: 0.5036\n",
      "Epoch 8/30\n",
      "50000/50000 [==============================] - 232s 5ms/sample - loss: 1.2513 - accuracy: 0.5413 - val_loss: 1.2484 - val_accuracy: 0.5541\n",
      "Epoch 9/30\n",
      "50000/50000 [==============================] - 231s 5ms/sample - loss: 1.1528 - accuracy: 0.5796 - val_loss: 1.1521 - val_accuracy: 0.5785\n",
      "Epoch 10/30\n",
      "50000/50000 [==============================] - 232s 5ms/sample - loss: 1.0810 - accuracy: 0.6081 - val_loss: 1.0564 - val_accuracy: 0.6307\n",
      "Epoch 11/30\n",
      "50000/50000 [==============================] - 232s 5ms/sample - loss: 1.0027 - accuracy: 0.6398 - val_loss: 1.0195 - val_accuracy: 0.6444\n",
      "Epoch 12/30\n",
      "50000/50000 [==============================] - 232s 5ms/sample - loss: 0.9497 - accuracy: 0.6606 - val_loss: 0.9692 - val_accuracy: 0.6612\n",
      "Epoch 13/30\n",
      "50000/50000 [==============================] - 231s 5ms/sample - loss: 0.8748 - accuracy: 0.6887 - val_loss: 0.9439 - val_accuracy: 0.6747\n",
      "Epoch 14/30\n",
      "50000/50000 [==============================] - 232s 5ms/sample - loss: 0.8300 - accuracy: 0.7079 - val_loss: 0.8747 - val_accuracy: 0.6921\n",
      "Epoch 15/30\n",
      "50000/50000 [==============================] - 233s 5ms/sample - loss: 0.8069 - accuracy: 0.7136 - val_loss: 0.8996 - val_accuracy: 0.6882\n",
      "Epoch 16/30\n",
      "50000/50000 [==============================] - 232s 5ms/sample - loss: 0.7448 - accuracy: 0.7365 - val_loss: 0.7729 - val_accuracy: 0.7362\n",
      "Epoch 17/30\n",
      "50000/50000 [==============================] - 230s 5ms/sample - loss: 0.7071 - accuracy: 0.7501 - val_loss: 0.8055 - val_accuracy: 0.7197\n",
      "Epoch 18/30\n",
      "50000/50000 [==============================] - 233s 5ms/sample - loss: 0.6671 - accuracy: 0.7657 - val_loss: 0.8365 - val_accuracy: 0.7168\n",
      "Epoch 19/30\n",
      "50000/50000 [==============================] - 230s 5ms/sample - loss: 0.6691 - accuracy: 0.7644 - val_loss: 0.7492 - val_accuracy: 0.7474\n",
      "Epoch 20/30\n",
      "50000/50000 [==============================] - 233s 5ms/sample - loss: 0.6373 - accuracy: 0.7763 - val_loss: 0.7312 - val_accuracy: 0.7494\n",
      "Epoch 21/30\n",
      "50000/50000 [==============================] - 233s 5ms/sample - loss: 0.5803 - accuracy: 0.7960 - val_loss: 0.7343 - val_accuracy: 0.7437\n",
      "Epoch 22/30\n",
      "50000/50000 [==============================] - 232s 5ms/sample - loss: 0.5748 - accuracy: 0.7972 - val_loss: 0.6973 - val_accuracy: 0.7590\n",
      "Epoch 23/30\n",
      "50000/50000 [==============================] - 233s 5ms/sample - loss: 0.5646 - accuracy: 0.8022 - val_loss: 0.6596 - val_accuracy: 0.7754\n",
      "Epoch 24/30\n",
      "50000/50000 [==============================] - 233s 5ms/sample - loss: 0.5094 - accuracy: 0.8211 - val_loss: 0.6800 - val_accuracy: 0.7681\n",
      "Epoch 25/30\n",
      "50000/50000 [==============================] - 231s 5ms/sample - loss: 0.4934 - accuracy: 0.8274 - val_loss: 0.6536 - val_accuracy: 0.7805\n",
      "Epoch 26/30\n",
      "50000/50000 [==============================] - 231s 5ms/sample - loss: 0.4741 - accuracy: 0.8338 - val_loss: 0.6405 - val_accuracy: 0.7809\n",
      "Epoch 27/30\n",
      "50000/50000 [==============================] - 232s 5ms/sample - loss: 0.4293 - accuracy: 0.8484 - val_loss: 0.6084 - val_accuracy: 0.7959\n",
      "Epoch 28/30\n",
      "50000/50000 [==============================] - 233s 5ms/sample - loss: 0.4225 - accuracy: 0.8508 - val_loss: 0.6207 - val_accuracy: 0.7900\n",
      "Epoch 29/30\n",
      "50000/50000 [==============================] - 232s 5ms/sample - loss: 0.3976 - accuracy: 0.8590 - val_loss: 0.6105 - val_accuracy: 0.7926\n",
      "Epoch 30/30\n",
      "50000/50000 [==============================] - 233s 5ms/sample - loss: 0.3677 - accuracy: 0.8690 - val_loss: 0.6501 - val_accuracy: 0.7830\n"
     ]
    },
    {
     "data": {
      "text/plain": [
       "<keras.callbacks.History at 0x7fd928184610>"
      ]
     },
     "execution_count": 14,
     "metadata": {},
     "output_type": "execute_result"
    }
   ],
   "source": [
    "# 学習の実行。\n",
    "model_kwta.fit(X_train, y_train,\n",
    "          batch_size=512,\n",
    "          epochs=30,\n",
    "          validation_data=(X_test, y_test),\n",
    "          shuffle=True)"
   ]
  },
  {
   "cell_type": "markdown",
   "metadata": {
    "id": "MRrec6CqAlhT"
   },
   "source": [
    "## モデルの精度評価"
   ]
  },
  {
   "cell_type": "code",
   "execution_count": 15,
   "metadata": {
    "id": "ING1BhjUAvTH",
    "outputId": "5865366f-d5ee-4982-9b87-720cb9ad4eac"
   },
   "outputs": [
    {
     "data": {
      "text/plain": [
       "[0.6447335467338562, 0.788]"
      ]
     },
     "execution_count": 15,
     "metadata": {},
     "output_type": "execute_result"
    }
   ],
   "source": [
    "model_kwta.evaluate(X_test, y_test)"
   ]
  },
  {
   "cell_type": "markdown",
   "metadata": {
    "id": "cyHAo6D4CL8s"
   },
   "source": [
    "# 敵対的攻撃"
   ]
  },
  {
   "cell_type": "markdown",
   "metadata": {
    "id": "iyFSzXUCb--B"
   },
   "source": [
    "## 非標的型攻撃としてのFGSMによる摂動を作成\n",
    "以下、この摂動を上乗せした画像のことを「敵対的画像」と呼ぶ。"
   ]
  },
  {
   "cell_type": "code",
   "execution_count": 18,
   "metadata": {
    "id": "K12B6fnsn1GV"
   },
   "outputs": [],
   "source": [
    "# 入力データの特徴量の最小値・最大値を指定。\n",
    "# 特徴量は0.0～1.0の範囲に収まるように正規化しているため、最小値は0.0、最大値は1.0とする。\n",
    "min_pixel_value = 0.0\n",
    "max_pixel_value = 1.0"
   ]
  },
  {
   "cell_type": "markdown",
   "metadata": {
    "id": "1gGVkHO1oOKz"
   },
   "source": [
    "### k-WTAなし"
   ]
  },
  {
   "cell_type": "code",
   "execution_count": 16,
   "metadata": {
    "id": "Z-1z-Rban7-c"
   },
   "outputs": [
    {
     "ename": "NameError",
     "evalue": "name 'model' is not defined",
     "output_type": "error",
     "traceback": [
      "\u001b[0;31m---------------------------------------------------------------------------\u001b[0m",
      "\u001b[0;31mNameError\u001b[0m                                 Traceback (most recent call last)",
      "\u001b[0;32m/var/folders/dv/_837vmqs5yl0tklsbq8k7mdm0000gn/T/ipykernel_4660/1617251616.py\u001b[0m in \u001b[0;36m<module>\u001b[0;34m\u001b[0m\n\u001b[1;32m      1\u001b[0m \u001b[0;31m# モデルをART Keras Classifierでラップ。\u001b[0m\u001b[0;34m\u001b[0m\u001b[0;34m\u001b[0m\u001b[0;34m\u001b[0m\u001b[0m\n\u001b[0;32m----> 2\u001b[0;31m \u001b[0mclassifier\u001b[0m \u001b[0;34m=\u001b[0m \u001b[0mKerasClassifier\u001b[0m\u001b[0;34m(\u001b[0m\u001b[0mmodel\u001b[0m\u001b[0;34m=\u001b[0m\u001b[0mmodel\u001b[0m\u001b[0;34m,\u001b[0m \u001b[0mclip_values\u001b[0m\u001b[0;34m=\u001b[0m\u001b[0;34m(\u001b[0m\u001b[0mmin_pixel_value\u001b[0m\u001b[0;34m,\u001b[0m \u001b[0mmax_pixel_value\u001b[0m\u001b[0;34m)\u001b[0m\u001b[0;34m,\u001b[0m \u001b[0muse_logits\u001b[0m\u001b[0;34m=\u001b[0m\u001b[0;32mFalse\u001b[0m\u001b[0;34m)\u001b[0m\u001b[0;34m\u001b[0m\u001b[0;34m\u001b[0m\u001b[0m\n\u001b[0m\u001b[1;32m      3\u001b[0m \u001b[0;31m# FGSMインスタンスの作成。\u001b[0m\u001b[0;34m\u001b[0m\u001b[0;34m\u001b[0m\u001b[0;34m\u001b[0m\u001b[0m\n\u001b[1;32m      4\u001b[0m \u001b[0mattack\u001b[0m \u001b[0;34m=\u001b[0m \u001b[0mFastGradientMethod\u001b[0m\u001b[0;34m(\u001b[0m\u001b[0mestimator\u001b[0m\u001b[0;34m=\u001b[0m\u001b[0mclassifier\u001b[0m\u001b[0;34m,\u001b[0m \u001b[0meps\u001b[0m\u001b[0;34m=\u001b[0m\u001b[0;36m0.10\u001b[0m\u001b[0;34m,\u001b[0m \u001b[0mtargeted\u001b[0m\u001b[0;34m=\u001b[0m\u001b[0;32mFalse\u001b[0m\u001b[0;34m)\u001b[0m\u001b[0;34m\u001b[0m\u001b[0;34m\u001b[0m\u001b[0m\n\u001b[1;32m      5\u001b[0m \u001b[0;31m# 敵対的サンプルの生成（ベース画像はテストデータとする）。\u001b[0m\u001b[0;34m\u001b[0m\u001b[0;34m\u001b[0m\u001b[0;34m\u001b[0m\u001b[0m\n",
      "\u001b[0;31mNameError\u001b[0m: name 'model' is not defined"
     ]
    }
   ],
   "source": [
    "# モデルをART Keras Classifierでラップ。\n",
    "classifier = KerasClassifier(model=model, clip_values=(min_pixel_value, max_pixel_value), use_logits=False)\n",
    "# FGSMインスタンスの作成。\n",
    "attack = FastGradientMethod(estimator=classifier, eps=0.10, targeted=False)\n",
    "# 敵対的サンプルの生成（ベース画像はテストデータとする）。\n",
    "X_adv = attack.generate(x=X_test)"
   ]
  },
  {
   "cell_type": "markdown",
   "metadata": {
    "id": "GNa-IoVCoOKz"
   },
   "source": [
    "### k-WTAあり"
   ]
  },
  {
   "cell_type": "code",
   "execution_count": 19,
   "metadata": {
    "id": "kDNDkKvacPJM"
   },
   "outputs": [],
   "source": [
    "classifier_kwta = KerasClassifier(model=model_kwta, clip_values=(min_pixel_value, max_pixel_value), use_logits=False)\n",
    "attack_kwta = FastGradientMethod(estimator=classifier_kwta, eps=0.10, targeted=False)\n",
    "X_adv_kwta = attack_kwta.generate(X_test)"
   ]
  },
  {
   "cell_type": "markdown",
   "metadata": {
    "id": "wqsgeVgpcwoJ"
   },
   "source": [
    "## 敵対的画像に対するモデルの精度評価"
   ]
  },
  {
   "cell_type": "markdown",
   "metadata": {
    "id": "zF8ZudkKoOKz"
   },
   "source": [
    "### k-WTAなし"
   ]
  },
  {
   "cell_type": "code",
   "execution_count": null,
   "metadata": {
    "id": "VgplWIjECQud"
   },
   "outputs": [],
   "source": [
    "model.evaluate(X_adv, y_test)"
   ]
  },
  {
   "cell_type": "markdown",
   "metadata": {
    "id": "JMYgKirzoOK0"
   },
   "source": [
    "### k-WTAあり"
   ]
  },
  {
   "cell_type": "code",
   "execution_count": 20,
   "metadata": {
    "id": "2O14VsPkCVxY",
    "outputId": "eabd81af-7678-4328-b89b-566c954080c8"
   },
   "outputs": [
    {
     "data": {
      "text/plain": [
       "[4.724658728027344, 0.1319]"
      ]
     },
     "execution_count": 20,
     "metadata": {},
     "output_type": "execute_result"
    }
   ],
   "source": [
    "model_kwta.evaluate(X_adv_kwta, y_test)"
   ]
  },
  {
   "cell_type": "code",
   "execution_count": null,
   "metadata": {
    "id": "ns__xrtYoOK0"
   },
   "outputs": [],
   "source": []
  }
 ],
 "metadata": {
  "accelerator": "GPU",
  "colab": {
   "collapsed_sections": [],
   "name": "k_WTA_keras5.ipynb",
   "provenance": [],
   "toc_visible": true
  },
  "kernelspec": {
   "display_name": "Python 3 (ipykernel)",
   "language": "python",
   "name": "python3"
  },
  "language_info": {
   "codemirror_mode": {
    "name": "ipython",
    "version": 3
   },
   "file_extension": ".py",
   "mimetype": "text/x-python",
   "name": "python",
   "nbconvert_exporter": "python",
   "pygments_lexer": "ipython3",
   "version": "3.7.11"
  }
 },
 "nbformat": 4,
 "nbformat_minor": 1
}
