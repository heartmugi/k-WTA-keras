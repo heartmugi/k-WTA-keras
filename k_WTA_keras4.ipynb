{
 "cells": [
  {
   "cell_type": "markdown",
   "metadata": {
    "id": "IpYgko9QarAK"
   },
   "source": [
    "# 準備"
   ]
  },
  {
   "cell_type": "markdown",
   "metadata": {
    "id": "pCaVa2R5bq_4"
   },
   "source": [
    "## artのインストール"
   ]
  },
  {
   "cell_type": "code",
   "execution_count": null,
   "metadata": {
    "id": "QoNsAnXUmgST"
   },
   "outputs": [],
   "source": [
    "!pip3 install adversarial-robustness-toolbox"
   ]
  },
  {
   "cell_type": "markdown",
   "metadata": {
    "id": "Us1-UrOXaw87"
   },
   "source": [
    "## ライブラリのインポート"
   ]
  },
  {
   "cell_type": "code",
   "execution_count": 1,
   "metadata": {
    "id": "wF3Foi62mnPi"
   },
   "outputs": [],
   "source": [
    "import random\n",
    "import numpy as np\n",
    "import matplotlib.pyplot as plt\n",
    "\n",
    "# TensorFlow with Keras.\n",
    "import tensorflow as tf\n",
    "import keras\n",
    "from keras.models import Model\n",
    "from keras.layers import Input, Dense, Flatten, Conv2D, Lambda, ReLU\n",
    "from keras.layers import MaxPooling2D, GlobalAveragePooling2D, Dropout\n",
    "tf.compat.v1.disable_eager_execution()\n",
    "from keras import backend as K\n",
    "\n",
    "# ART\n",
    "import art\n",
    "from art.attacks.evasion import FastGradientMethod\n",
    "from art.estimators.classification import KerasClassifier"
   ]
  },
  {
   "cell_type": "markdown",
   "metadata": {
    "id": "qsjVGzIwaz1c"
   },
   "source": [
    "## CIFAR10のロード・前処理"
   ]
  },
  {
   "cell_type": "code",
   "execution_count": 2,
   "metadata": {
    "colab": {
     "base_uri": "https://localhost:8080/"
    },
    "id": "NJn7yF4_mwM_",
    "outputId": "840af211-aa87-4c37-fd99-7e580b956473"
   },
   "outputs": [],
   "source": [
    "# CIFAR10のロード。\n",
    "(X_train, y_train), (X_test, y_test) = tf.keras.datasets.cifar10.load_data()\n",
    "\n",
    "# CIFAR10のラベル。\n",
    "classes = ['airplane', 'automobile', 'bird', 'cat', 'deer', 'dog', 'frog', 'horse', 'ship', 'truck']\n",
    "num_classes = len(classes)"
   ]
  },
  {
   "cell_type": "code",
   "execution_count": 3,
   "metadata": {
    "id": "9zOnIFWanCRE"
   },
   "outputs": [],
   "source": [
    "# 正規化。\n",
    "X_train = X_train.astype('float32') / 255\n",
    "X_test = X_test.astype('float32') / 255\n",
    "\n",
    "# ラベルをOne-hot-vector化。\n",
    "y_train = tf.keras.utils.to_categorical(y_train, num_classes)\n",
    "y_test = tf.keras.utils.to_categorical(y_test, num_classes)"
   ]
  },
  {
   "cell_type": "markdown",
   "metadata": {
    "id": "BIh32W6raz6l"
   },
   "source": [
    "# Classifier(k-WTAなし)の作成\n",
    "\n"
   ]
  },
  {
   "cell_type": "markdown",
   "metadata": {
    "id": "VYm8pYF6btOr"
   },
   "source": [
    "## モデル定義"
   ]
  },
  {
   "cell_type": "code",
   "execution_count": 66,
   "metadata": {
    "colab": {
     "base_uri": "https://localhost:8080/"
    },
    "id": "GkhVRmdcnG4G",
    "outputId": "fbe6bd83-74b9-47db-a2df-c18e4789d7ee"
   },
   "outputs": [
    {
     "name": "stdout",
     "output_type": "stream",
     "text": [
      "Model: \"model_17\"\n",
      "_________________________________________________________________\n",
      "Layer (type)                 Output Shape              Param #   \n",
      "=================================================================\n",
      "input_31 (InputLayer)        [(None, 32, 32, 3)]       0         \n",
      "_________________________________________________________________\n",
      "conv2d_116 (Conv2D)          (None, 32, 32, 64)        1792      \n",
      "_________________________________________________________________\n",
      "conv2d_117 (Conv2D)          (None, 32, 32, 64)        36928     \n",
      "_________________________________________________________________\n",
      "dropout_81 (Dropout)         (None, 32, 32, 64)        0         \n",
      "_________________________________________________________________\n",
      "max_pooling2d_34 (MaxPooling (None, 16, 16, 64)        0         \n",
      "_________________________________________________________________\n",
      "conv2d_118 (Conv2D)          (None, 16, 16, 128)       73856     \n",
      "_________________________________________________________________\n",
      "conv2d_119 (Conv2D)          (None, 16, 16, 128)       147584    \n",
      "_________________________________________________________________\n",
      "dropout_82 (Dropout)         (None, 16, 16, 128)       0         \n",
      "_________________________________________________________________\n",
      "max_pooling2d_35 (MaxPooling (None, 8, 8, 128)         0         \n",
      "_________________________________________________________________\n",
      "conv2d_120 (Conv2D)          (None, 8, 8, 256)         295168    \n",
      "_________________________________________________________________\n",
      "conv2d_121 (Conv2D)          (None, 8, 8, 256)         590080    \n",
      "_________________________________________________________________\n",
      "global_average_pooling2d_17  (None, 256)               0         \n",
      "_________________________________________________________________\n",
      "dense_64 (Dense)             (None, 1024)              263168    \n",
      "_________________________________________________________________\n",
      "dropout_83 (Dropout)         (None, 1024)              0         \n",
      "_________________________________________________________________\n",
      "dense_65 (Dense)             (None, 10)                10250     \n",
      "=================================================================\n",
      "Total params: 1,418,826\n",
      "Trainable params: 1,418,826\n",
      "Non-trainable params: 0\n",
      "_________________________________________________________________\n"
     ]
    }
   ],
   "source": [
    "# モデルの定義。\n",
    "inputs = Input(shape=(32, 32, 3))\n",
    "x = Conv2D(64, (3, 3), padding='SAME', activation='relu')(inputs)\n",
    "x = Conv2D(64, (3, 3), padding='SAME', activation='relu')(x)\n",
    "x = Dropout(0.25)(x)\n",
    "x = MaxPooling2D()(x)\n",
    "\n",
    "x = Conv2D(128, (3,3), padding='SAME', activation='relu')(x)\n",
    "x = Conv2D(128, (3,3), padding='SAME', activation='relu')(x)\n",
    "x = Dropout(0.25)(x)\n",
    "x = MaxPooling2D()(x)\n",
    "\n",
    "x = Conv2D(256, (3,3), padding='SAME', activation='relu')(x)\n",
    "x = Conv2D(256, (3,3), padding='SAME', activation='relu')(x)\n",
    "x = GlobalAveragePooling2D()(x)\n",
    "\n",
    "x = Dense(1024, activation='relu')(x)\n",
    "x = Dropout(0.25)(x)\n",
    "y = Dense(10, activation='softmax')(x)\n",
    "\n",
    "model = Model(inputs, y)\n",
    "\n",
    "# モデルのコンパイル。\n",
    "model.compile(optimizer=tf.keras.optimizers.Adam(),\n",
    "              loss='categorical_crossentropy',\n",
    "              metrics=['accuracy'])\n",
    "model.summary()"
   ]
  },
  {
   "cell_type": "markdown",
   "metadata": {
    "id": "gwFlvnrDbH7N"
   },
   "source": [
    "## 学習の実行"
   ]
  },
  {
   "cell_type": "markdown",
   "metadata": {
    "id": "l9TbV14fbSGI"
   },
   "source": [
    "## モデルの精度評価"
   ]
  },
  {
   "cell_type": "code",
   "execution_count": 67,
   "metadata": {
    "colab": {
     "background_save": true,
     "base_uri": "https://localhost:8080/"
    },
    "id": "iRnFClSCnKP-",
    "outputId": "6cb47b9b-56fd-4527-f5cd-287a8ab777e6"
   },
   "outputs": [
    {
     "name": "stdout",
     "output_type": "stream",
     "text": [
      "Train on 50000 samples, validate on 10000 samples\n",
      "Epoch 1/30\n"
     ]
    },
    {
     "ename": "KeyboardInterrupt",
     "evalue": "",
     "output_type": "error",
     "traceback": [
      "\u001b[0;31m---------------------------------------------------------------------------\u001b[0m",
      "\u001b[0;31mKeyboardInterrupt\u001b[0m                         Traceback (most recent call last)",
      "\u001b[0;32m/var/folders/dv/_837vmqs5yl0tklsbq8k7mdm0000gn/T/ipykernel_94883/545656769.py\u001b[0m in \u001b[0;36m<module>\u001b[0;34m\u001b[0m\n\u001b[1;32m      4\u001b[0m           \u001b[0mepochs\u001b[0m\u001b[0;34m=\u001b[0m\u001b[0;36m30\u001b[0m\u001b[0;34m,\u001b[0m\u001b[0;34m\u001b[0m\u001b[0;34m\u001b[0m\u001b[0m\n\u001b[1;32m      5\u001b[0m           \u001b[0mvalidation_data\u001b[0m\u001b[0;34m=\u001b[0m\u001b[0;34m(\u001b[0m\u001b[0mX_test\u001b[0m\u001b[0;34m,\u001b[0m \u001b[0my_test\u001b[0m\u001b[0;34m)\u001b[0m\u001b[0;34m,\u001b[0m\u001b[0;34m\u001b[0m\u001b[0;34m\u001b[0m\u001b[0m\n\u001b[0;32m----> 6\u001b[0;31m           shuffle=True)\n\u001b[0m",
      "\u001b[0;32m~/opt/anaconda3/envs/k-wta/lib/python3.7/site-packages/keras/engine/training_v1.py\u001b[0m in \u001b[0;36mfit\u001b[0;34m(self, x, y, batch_size, epochs, verbose, callbacks, validation_split, validation_data, shuffle, class_weight, sample_weight, initial_epoch, steps_per_epoch, validation_steps, validation_freq, max_queue_size, workers, use_multiprocessing, **kwargs)\u001b[0m\n\u001b[1;32m    794\u001b[0m         \u001b[0mmax_queue_size\u001b[0m\u001b[0;34m=\u001b[0m\u001b[0mmax_queue_size\u001b[0m\u001b[0;34m,\u001b[0m\u001b[0;34m\u001b[0m\u001b[0;34m\u001b[0m\u001b[0m\n\u001b[1;32m    795\u001b[0m         \u001b[0mworkers\u001b[0m\u001b[0;34m=\u001b[0m\u001b[0mworkers\u001b[0m\u001b[0;34m,\u001b[0m\u001b[0;34m\u001b[0m\u001b[0;34m\u001b[0m\u001b[0m\n\u001b[0;32m--> 796\u001b[0;31m         use_multiprocessing=use_multiprocessing)\n\u001b[0m\u001b[1;32m    797\u001b[0m \u001b[0;34m\u001b[0m\u001b[0m\n\u001b[1;32m    798\u001b[0m   def evaluate(self,\n",
      "\u001b[0;32m~/opt/anaconda3/envs/k-wta/lib/python3.7/site-packages/keras/engine/training_arrays_v1.py\u001b[0m in \u001b[0;36mfit\u001b[0;34m(self, model, x, y, batch_size, epochs, verbose, callbacks, validation_split, validation_data, shuffle, class_weight, sample_weight, initial_epoch, steps_per_epoch, validation_steps, validation_freq, **kwargs)\u001b[0m\n\u001b[1;32m    655\u001b[0m         \u001b[0mvalidation_steps\u001b[0m\u001b[0;34m=\u001b[0m\u001b[0mvalidation_steps\u001b[0m\u001b[0;34m,\u001b[0m\u001b[0;34m\u001b[0m\u001b[0;34m\u001b[0m\u001b[0m\n\u001b[1;32m    656\u001b[0m         \u001b[0mvalidation_freq\u001b[0m\u001b[0;34m=\u001b[0m\u001b[0mvalidation_freq\u001b[0m\u001b[0;34m,\u001b[0m\u001b[0;34m\u001b[0m\u001b[0;34m\u001b[0m\u001b[0m\n\u001b[0;32m--> 657\u001b[0;31m         steps_name='steps_per_epoch')\n\u001b[0m\u001b[1;32m    658\u001b[0m \u001b[0;34m\u001b[0m\u001b[0m\n\u001b[1;32m    659\u001b[0m   def evaluate(self,\n",
      "\u001b[0;32m~/opt/anaconda3/envs/k-wta/lib/python3.7/site-packages/keras/engine/training_arrays_v1.py\u001b[0m in \u001b[0;36mmodel_iteration\u001b[0;34m(model, inputs, targets, sample_weights, batch_size, epochs, verbose, callbacks, val_inputs, val_targets, val_sample_weights, shuffle, initial_epoch, steps_per_epoch, validation_steps, validation_freq, mode, validation_in_fit, prepared_feed_values_from_dataset, steps_name, **kwargs)\u001b[0m\n\u001b[1;32m    374\u001b[0m \u001b[0;34m\u001b[0m\u001b[0m\n\u001b[1;32m    375\u001b[0m         \u001b[0;31m# Get outputs.\u001b[0m\u001b[0;34m\u001b[0m\u001b[0;34m\u001b[0m\u001b[0;34m\u001b[0m\u001b[0m\n\u001b[0;32m--> 376\u001b[0;31m         \u001b[0mbatch_outs\u001b[0m \u001b[0;34m=\u001b[0m \u001b[0mf\u001b[0m\u001b[0;34m(\u001b[0m\u001b[0mins_batch\u001b[0m\u001b[0;34m)\u001b[0m\u001b[0;34m\u001b[0m\u001b[0;34m\u001b[0m\u001b[0m\n\u001b[0m\u001b[1;32m    377\u001b[0m         \u001b[0;32mif\u001b[0m \u001b[0;32mnot\u001b[0m \u001b[0misinstance\u001b[0m\u001b[0;34m(\u001b[0m\u001b[0mbatch_outs\u001b[0m\u001b[0;34m,\u001b[0m \u001b[0mlist\u001b[0m\u001b[0;34m)\u001b[0m\u001b[0;34m:\u001b[0m\u001b[0;34m\u001b[0m\u001b[0;34m\u001b[0m\u001b[0m\n\u001b[1;32m    378\u001b[0m           \u001b[0mbatch_outs\u001b[0m \u001b[0;34m=\u001b[0m \u001b[0;34m[\u001b[0m\u001b[0mbatch_outs\u001b[0m\u001b[0;34m]\u001b[0m\u001b[0;34m\u001b[0m\u001b[0;34m\u001b[0m\u001b[0m\n",
      "\u001b[0;32m~/opt/anaconda3/envs/k-wta/lib/python3.7/site-packages/keras/backend.py\u001b[0m in \u001b[0;36m__call__\u001b[0;34m(self, inputs)\u001b[0m\n\u001b[1;32m   4030\u001b[0m \u001b[0;34m\u001b[0m\u001b[0m\n\u001b[1;32m   4031\u001b[0m     fetched = self._callable_fn(*array_vals,\n\u001b[0;32m-> 4032\u001b[0;31m                                 run_metadata=self.run_metadata)\n\u001b[0m\u001b[1;32m   4033\u001b[0m     \u001b[0mself\u001b[0m\u001b[0;34m.\u001b[0m\u001b[0m_call_fetch_callbacks\u001b[0m\u001b[0;34m(\u001b[0m\u001b[0mfetched\u001b[0m\u001b[0;34m[\u001b[0m\u001b[0;34m-\u001b[0m\u001b[0mlen\u001b[0m\u001b[0;34m(\u001b[0m\u001b[0mself\u001b[0m\u001b[0;34m.\u001b[0m\u001b[0m_fetches\u001b[0m\u001b[0;34m)\u001b[0m\u001b[0;34m:\u001b[0m\u001b[0;34m]\u001b[0m\u001b[0;34m)\u001b[0m\u001b[0;34m\u001b[0m\u001b[0;34m\u001b[0m\u001b[0m\n\u001b[1;32m   4034\u001b[0m     output_structure = tf.nest.pack_sequence_as(\n",
      "\u001b[0;32m~/opt/anaconda3/envs/k-wta/lib/python3.7/site-packages/tensorflow/python/client/session.py\u001b[0m in \u001b[0;36m__call__\u001b[0;34m(self, *args, **kwargs)\u001b[0m\n\u001b[1;32m   1478\u001b[0m         ret = tf_session.TF_SessionRunCallable(self._session._session,\n\u001b[1;32m   1479\u001b[0m                                                \u001b[0mself\u001b[0m\u001b[0;34m.\u001b[0m\u001b[0m_handle\u001b[0m\u001b[0;34m,\u001b[0m \u001b[0margs\u001b[0m\u001b[0;34m,\u001b[0m\u001b[0;34m\u001b[0m\u001b[0;34m\u001b[0m\u001b[0m\n\u001b[0;32m-> 1480\u001b[0;31m                                                run_metadata_ptr)\n\u001b[0m\u001b[1;32m   1481\u001b[0m         \u001b[0;32mif\u001b[0m \u001b[0mrun_metadata\u001b[0m\u001b[0;34m:\u001b[0m\u001b[0;34m\u001b[0m\u001b[0;34m\u001b[0m\u001b[0m\n\u001b[1;32m   1482\u001b[0m           \u001b[0mproto_data\u001b[0m \u001b[0;34m=\u001b[0m \u001b[0mtf_session\u001b[0m\u001b[0;34m.\u001b[0m\u001b[0mTF_GetBuffer\u001b[0m\u001b[0;34m(\u001b[0m\u001b[0mrun_metadata_ptr\u001b[0m\u001b[0;34m)\u001b[0m\u001b[0;34m\u001b[0m\u001b[0;34m\u001b[0m\u001b[0m\n",
      "\u001b[0;31mKeyboardInterrupt\u001b[0m: "
     ]
    }
   ],
   "source": [
    "# 学習の実行。\n",
    "model.fit(X_train, y_train,\n",
    "          batch_size=512,\n",
    "          epochs=30,\n",
    "          validation_data=(X_test, y_test),\n",
    "          shuffle=True)"
   ]
  },
  {
   "cell_type": "code",
   "execution_count": null,
   "metadata": {
    "id": "S656RWtknM8r"
   },
   "outputs": [],
   "source": [
    "model.evaluate(X_test, y_test)"
   ]
  },
  {
   "cell_type": "markdown",
   "metadata": {
    "id": "1P3oVot2qMdb"
   },
   "source": [
    "# Classifier(k-WTAあり)の作成"
   ]
  },
  {
   "cell_type": "markdown",
   "metadata": {
    "id": "jLjl3-B6qmH9"
   },
   "source": [
    "## k-WTAの作成"
   ]
  },
  {
   "cell_type": "code",
   "execution_count": 4,
   "metadata": {
    "id": "q4fSArArqorP"
   },
   "outputs": [],
   "source": [
    "class KWTA(tf.keras.layers.Layer):\n",
    "  def __init__(self, k, **kwargs) :\n",
    "    super().__init__(**kwargs)\n",
    "    self.k = k\n",
    "\n",
    "  def call(self, x):\n",
    "    topk = tf.math.top_k(x[0], k=self.k)   # 上位k個の値を抽出\n",
    "    topk_min = K.min(topk.values)         # topkの最小値を抽出\n",
    "    comp = tf.dtypes.cast(x >= topk_min, tf.float32)   # topkの最小値以上の値の部分を1, より小さい値の部分を0にしたTensorを生成\n",
    "    return tf.math.multiply(x,comp)        # x * compより、topkの最小値以上の値のみそのまま、他は0になるようにする\n",
    "\n",
    "class KWTA2D(tf.keras.layers.Layer):\n",
    "    def __init__(self, k=None, **kwargs):\n",
    "        super().__init__(**kwargs)\n",
    "        self.k = k\n",
    "        \n",
    "    def call(self, x):\n",
    "        n = x[0].shape[0] * x[0].shape[1] * x[0].shape[2]\n",
    "        if self.k == None:\n",
    "            k = n * 7 // 10\n",
    "        else:\n",
    "            k = self.k\n",
    "        x_flatten = tf.reshape(x[0],  [n])\n",
    "        topk = tf.math.top_k(x_flatten, k=k)\n",
    "        topk_min = K.min(topk.values) \n",
    "        comp = tf.dtypes.cast(x >= topk_min, tf.float32)\n",
    "        return tf.math.multiply(x,comp)"
   ]
  },
  {
   "cell_type": "markdown",
   "metadata": {
    "id": "PekcoaIBqQtm"
   },
   "source": [
    "## モデル定義"
   ]
  },
  {
   "cell_type": "code",
   "execution_count": 5,
   "metadata": {
    "id": "aXYxX_ckqXho"
   },
   "outputs": [
    {
     "name": "stdout",
     "output_type": "stream",
     "text": [
      "Model: \"model\"\n",
      "_________________________________________________________________\n",
      "Layer (type)                 Output Shape              Param #   \n",
      "=================================================================\n",
      "input_1 (InputLayer)         [(None, 32, 32, 3)]       0         \n",
      "_________________________________________________________________\n",
      "conv2d (Conv2D)              (None, 32, 32, 64)        1792      \n",
      "_________________________________________________________________\n",
      "kwt_a2d (KWTA2D)             (None, 32, 32, 64)        0         \n",
      "_________________________________________________________________\n",
      "re_lu (ReLU)                 (None, 32, 32, 64)        0         \n",
      "_________________________________________________________________\n",
      "conv2d_1 (Conv2D)            (None, 32, 32, 64)        36928     \n",
      "_________________________________________________________________\n",
      "kwt_a2d_1 (KWTA2D)           (None, 32, 32, 64)        0         \n",
      "_________________________________________________________________\n",
      "re_lu_1 (ReLU)               (None, 32, 32, 64)        0         \n",
      "_________________________________________________________________\n",
      "dropout (Dropout)            (None, 32, 32, 64)        0         \n",
      "_________________________________________________________________\n",
      "max_pooling2d (MaxPooling2D) (None, 16, 16, 64)        0         \n",
      "_________________________________________________________________\n",
      "conv2d_2 (Conv2D)            (None, 16, 16, 128)       73856     \n",
      "_________________________________________________________________\n",
      "kwt_a2d_2 (KWTA2D)           (None, 16, 16, 128)       0         \n",
      "_________________________________________________________________\n",
      "re_lu_2 (ReLU)               (None, 16, 16, 128)       0         \n",
      "_________________________________________________________________\n",
      "conv2d_3 (Conv2D)            (None, 16, 16, 128)       147584    \n",
      "_________________________________________________________________\n",
      "kwt_a2d_3 (KWTA2D)           (None, 16, 16, 128)       0         \n",
      "_________________________________________________________________\n",
      "re_lu_3 (ReLU)               (None, 16, 16, 128)       0         \n",
      "_________________________________________________________________\n",
      "dropout_1 (Dropout)          (None, 16, 16, 128)       0         \n",
      "_________________________________________________________________\n",
      "max_pooling2d_1 (MaxPooling2 (None, 8, 8, 128)         0         \n",
      "_________________________________________________________________\n",
      "conv2d_4 (Conv2D)            (None, 8, 8, 256)         295168    \n",
      "_________________________________________________________________\n",
      "kwt_a2d_4 (KWTA2D)           (None, 8, 8, 256)         0         \n",
      "_________________________________________________________________\n",
      "re_lu_4 (ReLU)               (None, 8, 8, 256)         0         \n",
      "_________________________________________________________________\n",
      "conv2d_5 (Conv2D)            (None, 8, 8, 256)         590080    \n",
      "_________________________________________________________________\n",
      "kwt_a2d_5 (KWTA2D)           (None, 8, 8, 256)         0         \n",
      "_________________________________________________________________\n",
      "re_lu_5 (ReLU)               (None, 8, 8, 256)         0         \n",
      "_________________________________________________________________\n",
      "global_average_pooling2d (Gl (None, 256)               0         \n",
      "_________________________________________________________________\n",
      "dense (Dense)                (None, 1024)              263168    \n",
      "_________________________________________________________________\n",
      "kwta (KWTA)                  (None, 1024)              0         \n",
      "_________________________________________________________________\n",
      "re_lu_6 (ReLU)               (None, 1024)              0         \n",
      "_________________________________________________________________\n",
      "dropout_2 (Dropout)          (None, 1024)              0         \n",
      "_________________________________________________________________\n",
      "dense_1 (Dense)              (None, 10)                10250     \n",
      "=================================================================\n",
      "Total params: 1,418,826\n",
      "Trainable params: 1,418,826\n",
      "Non-trainable params: 0\n",
      "_________________________________________________________________\n"
     ]
    },
    {
     "name": "stderr",
     "output_type": "stream",
     "text": [
      "/Users/harada/opt/anaconda3/envs/k-wta/lib/python3.7/site-packages/keras/optimizer_v2/optimizer_v2.py:356: UserWarning: The `lr` argument is deprecated, use `learning_rate` instead.\n",
      "  \"The `lr` argument is deprecated, use `learning_rate` instead.\")\n"
     ]
    }
   ],
   "source": [
    "# モデルの定義。\n",
    "inputs = Input(shape=(32, 32, 3))\n",
    "x = Conv2D(64, (3, 3), padding='SAME')(inputs)\n",
    "x = KWTA2D()(x)\n",
    "x = ReLU()(x)\n",
    "x = Conv2D(64, (3, 3), padding='SAME')(x)\n",
    "x = KWTA2D()(x)\n",
    "x = ReLU()(x)\n",
    "x = Dropout(0.25)(x)\n",
    "x = MaxPooling2D()(x)\n",
    "\n",
    "x = Conv2D(128, (3,3), padding='SAME')(x)\n",
    "x = KWTA2D()(x)\n",
    "x = ReLU()(x)\n",
    "x = Conv2D(128, (3,3), padding='SAME')(x)\n",
    "x = KWTA2D()(x)\n",
    "x = ReLU()(x)\n",
    "x = Dropout(0.25)(x)\n",
    "x = MaxPooling2D()(x)\n",
    "\n",
    "x = Conv2D(256, (3,3), padding='SAME')(x)\n",
    "x = KWTA2D()(x)\n",
    "x = ReLU()(x)\n",
    "x = Conv2D(256, (3,3), padding='SAME')(x)\n",
    "x = KWTA2D()(x)\n",
    "x = ReLU()(x)\n",
    "x = GlobalAveragePooling2D()(x)\n",
    "\n",
    "x = Dense(1024)(x)\n",
    "x = KWTA(512)(x)\n",
    "x = ReLU()(x)\n",
    "x = Dropout(0.25)(x)\n",
    "y = Dense(10, activation='softmax')(x)\n",
    "\n",
    "model_kwta = Model(inputs, y)\n",
    "\n",
    "# モデルのコンパイル。\n",
    "model_kwta.compile(optimizer=tf.keras.optimizers.Adam(lr=0.001, beta_1=0.9, beta_2=0.999),\n",
    "              loss='categorical_crossentropy',\n",
    "              metrics=['accuracy'])\n",
    "model_kwta.summary()"
   ]
  },
  {
   "cell_type": "markdown",
   "metadata": {
    "id": "9NuJ90N8AsQZ"
   },
   "source": [
    "## 学習の実行"
   ]
  },
  {
   "cell_type": "code",
   "execution_count": 6,
   "metadata": {
    "id": "hYkVnIT9Ak0g"
   },
   "outputs": [
    {
     "name": "stdout",
     "output_type": "stream",
     "text": [
      "Train on 50000 samples, validate on 10000 samples\n",
      "Epoch 1/30\n"
     ]
    },
    {
     "name": "stderr",
     "output_type": "stream",
     "text": [
      "2021-10-31 04:43:04.368492: I tensorflow/core/platform/cpu_feature_guard.cc:142] This TensorFlow binary is optimized with oneAPI Deep Neural Network Library (oneDNN) to use the following CPU instructions in performance-critical operations:  AVX2 FMA\n",
      "To enable them in other operations, rebuild TensorFlow with the appropriate compiler flags.\n"
     ]
    },
    {
     "name": "stdout",
     "output_type": "stream",
     "text": [
      "50000/50000 [==============================] - ETA: 0s - loss: 2.0233 - accuracy: 0.2176"
     ]
    },
    {
     "name": "stderr",
     "output_type": "stream",
     "text": [
      "/Users/harada/opt/anaconda3/envs/k-wta/lib/python3.7/site-packages/keras/engine/training.py:2470: UserWarning: `Model.state_updates` will be removed in a future version. This property should not be used in TensorFlow 2.0, as `updates` are applied automatically.\n",
      "  warnings.warn('`Model.state_updates` will be removed in a future version. '\n"
     ]
    },
    {
     "name": "stdout",
     "output_type": "stream",
     "text": [
      "50000/50000 [==============================] - 268s 5ms/sample - loss: 2.0233 - accuracy: 0.2176 - val_loss: 1.8319 - val_accuracy: 0.3045\n",
      "Epoch 2/30\n",
      "50000/50000 [==============================] - 261s 5ms/sample - loss: 1.6382 - accuracy: 0.3798 - val_loss: 1.5381 - val_accuracy: 0.4504\n",
      "Epoch 3/30\n",
      "50000/50000 [==============================] - 254s 5ms/sample - loss: 1.4224 - accuracy: 0.4716 - val_loss: 1.3844 - val_accuracy: 0.5075\n",
      "Epoch 4/30\n",
      "50000/50000 [==============================] - 244s 5ms/sample - loss: 1.2278 - accuracy: 0.5475 - val_loss: 1.2792 - val_accuracy: 0.5341\n",
      "Epoch 5/30\n",
      "50000/50000 [==============================] - 245s 5ms/sample - loss: 1.0894 - accuracy: 0.6019 - val_loss: 1.0961 - val_accuracy: 0.6144\n",
      "Epoch 6/30\n",
      "50000/50000 [==============================] - 244s 5ms/sample - loss: 0.9665 - accuracy: 0.6515 - val_loss: 1.0190 - val_accuracy: 0.6377\n",
      "Epoch 7/30\n",
      "50000/50000 [==============================] - 244s 5ms/sample - loss: 0.8828 - accuracy: 0.6838 - val_loss: 0.9081 - val_accuracy: 0.6818\n",
      "Epoch 8/30\n",
      "50000/50000 [==============================] - 247s 5ms/sample - loss: 0.8192 - accuracy: 0.7061 - val_loss: 0.8910 - val_accuracy: 0.6889\n",
      "Epoch 9/30\n",
      "50000/50000 [==============================] - 245s 5ms/sample - loss: 0.7506 - accuracy: 0.7343 - val_loss: 0.8358 - val_accuracy: 0.7114\n",
      "Epoch 10/30\n",
      "50000/50000 [==============================] - 244s 5ms/sample - loss: 0.7062 - accuracy: 0.7504 - val_loss: 0.7618 - val_accuracy: 0.7345\n",
      "Epoch 11/30\n",
      "50000/50000 [==============================] - 247s 5ms/sample - loss: 0.6377 - accuracy: 0.7748 - val_loss: 0.7433 - val_accuracy: 0.7389\n",
      "Epoch 12/30\n",
      "50000/50000 [==============================] - 244s 5ms/sample - loss: 0.6027 - accuracy: 0.7877 - val_loss: 0.6927 - val_accuracy: 0.7587\n",
      "Epoch 13/30\n",
      "50000/50000 [==============================] - 246s 5ms/sample - loss: 0.5556 - accuracy: 0.8060 - val_loss: 0.7113 - val_accuracy: 0.7534\n",
      "Epoch 14/30\n",
      "50000/50000 [==============================] - 247s 5ms/sample - loss: 0.5313 - accuracy: 0.8151 - val_loss: 0.6726 - val_accuracy: 0.7698\n",
      "Epoch 15/30\n",
      "50000/50000 [==============================] - 247s 5ms/sample - loss: 0.4891 - accuracy: 0.8297 - val_loss: 0.6045 - val_accuracy: 0.7892\n",
      "Epoch 16/30\n",
      "50000/50000 [==============================] - 245s 5ms/sample - loss: 0.4597 - accuracy: 0.8402 - val_loss: 0.5821 - val_accuracy: 0.7996\n",
      "Epoch 17/30\n",
      "50000/50000 [==============================] - 245s 5ms/sample - loss: 0.4322 - accuracy: 0.8486 - val_loss: 0.5961 - val_accuracy: 0.7897\n",
      "Epoch 18/30\n",
      "50000/50000 [==============================] - 245s 5ms/sample - loss: 0.4039 - accuracy: 0.8585 - val_loss: 0.6143 - val_accuracy: 0.7882\n",
      "Epoch 19/30\n",
      "50000/50000 [==============================] - 247s 5ms/sample - loss: 0.3895 - accuracy: 0.8622 - val_loss: 0.5720 - val_accuracy: 0.7980\n",
      "Epoch 20/30\n",
      "50000/50000 [==============================] - 247s 5ms/sample - loss: 0.3519 - accuracy: 0.8776 - val_loss: 0.5490 - val_accuracy: 0.8115\n",
      "Epoch 21/30\n",
      "50000/50000 [==============================] - 246s 5ms/sample - loss: 0.3399 - accuracy: 0.8817 - val_loss: 0.5265 - val_accuracy: 0.8171\n",
      "Epoch 22/30\n",
      "50000/50000 [==============================] - 245s 5ms/sample - loss: 0.3137 - accuracy: 0.8892 - val_loss: 0.5443 - val_accuracy: 0.8166\n",
      "Epoch 23/30\n",
      "50000/50000 [==============================] - 244s 5ms/sample - loss: 0.2852 - accuracy: 0.8996 - val_loss: 0.5730 - val_accuracy: 0.8065\n",
      "Epoch 24/30\n",
      "50000/50000 [==============================] - 246s 5ms/sample - loss: 0.2602 - accuracy: 0.9075 - val_loss: 0.5357 - val_accuracy: 0.8205\n",
      "Epoch 25/30\n",
      "50000/50000 [==============================] - 245s 5ms/sample - loss: 0.2442 - accuracy: 0.9140 - val_loss: 0.5422 - val_accuracy: 0.8142\n",
      "Epoch 26/30\n",
      "50000/50000 [==============================] - 244s 5ms/sample - loss: 0.2292 - accuracy: 0.9187 - val_loss: 0.5261 - val_accuracy: 0.8287\n",
      "Epoch 27/30\n",
      "50000/50000 [==============================] - 246s 5ms/sample - loss: 0.2005 - accuracy: 0.9284 - val_loss: 0.5873 - val_accuracy: 0.8124\n",
      "Epoch 28/30\n",
      "50000/50000 [==============================] - 247s 5ms/sample - loss: 0.2046 - accuracy: 0.9275 - val_loss: 0.5685 - val_accuracy: 0.8127\n",
      "Epoch 29/30\n",
      "50000/50000 [==============================] - 245s 5ms/sample - loss: 0.1880 - accuracy: 0.9321 - val_loss: 0.5619 - val_accuracy: 0.8193\n",
      "Epoch 30/30\n",
      "50000/50000 [==============================] - 245s 5ms/sample - loss: 0.1821 - accuracy: 0.9352 - val_loss: 0.5423 - val_accuracy: 0.8257\n"
     ]
    },
    {
     "data": {
      "text/plain": [
       "<keras.callbacks.History at 0x7fee69973490>"
      ]
     },
     "execution_count": 6,
     "metadata": {},
     "output_type": "execute_result"
    }
   ],
   "source": [
    "# 学習の実行。\n",
    "model_kwta.fit(X_train, y_train,\n",
    "          batch_size=512,\n",
    "          epochs=30,\n",
    "          validation_data=(X_test, y_test),\n",
    "          shuffle=True)"
   ]
  },
  {
   "cell_type": "markdown",
   "metadata": {
    "id": "MRrec6CqAlhT"
   },
   "source": [
    "## モデルの精度評価"
   ]
  },
  {
   "cell_type": "code",
   "execution_count": 7,
   "metadata": {
    "id": "ING1BhjUAvTH"
   },
   "outputs": [
    {
     "data": {
      "text/plain": [
       "[0.5422619411230087, 0.8258]"
      ]
     },
     "execution_count": 7,
     "metadata": {},
     "output_type": "execute_result"
    }
   ],
   "source": [
    "model_kwta.evaluate(X_test, y_test)"
   ]
  },
  {
   "cell_type": "markdown",
   "metadata": {
    "id": "cyHAo6D4CL8s"
   },
   "source": [
    "# 敵対的攻撃"
   ]
  },
  {
   "cell_type": "markdown",
   "metadata": {
    "id": "iyFSzXUCb--B"
   },
   "source": [
    "## 非標的型攻撃としてのFGSMによる摂動を作成\n",
    "以下、この摂動を上乗せした画像のことを「敵対的画像」と呼ぶ。"
   ]
  },
  {
   "cell_type": "code",
   "execution_count": 8,
   "metadata": {
    "id": "K12B6fnsn1GV"
   },
   "outputs": [],
   "source": [
    "# 入力データの特徴量の最小値・最大値を指定。\n",
    "# 特徴量は0.0～1.0の範囲に収まるように正規化しているため、最小値は0.0、最大値は1.0とする。\n",
    "min_pixel_value = 0.0\n",
    "max_pixel_value = 1.0"
   ]
  },
  {
   "cell_type": "markdown",
   "metadata": {},
   "source": [
    "### k-WTAなし"
   ]
  },
  {
   "cell_type": "code",
   "execution_count": null,
   "metadata": {
    "id": "Z-1z-Rban7-c"
   },
   "outputs": [],
   "source": [
    "# モデルをART Keras Classifierでラップ。\n",
    "classifier = KerasClassifier(model=model, clip_values=(min_pixel_value, max_pixel_value), use_logits=False)\n",
    "# FGSMインスタンスの作成。\n",
    "attack = FastGradientMethod(estimator=classifier, eps=0.10, targeted=False)\n",
    "# 敵対的サンプルの生成（ベース画像はテストデータとする）。\n",
    "X_adv = attack.generate(x=X_test)"
   ]
  },
  {
   "cell_type": "markdown",
   "metadata": {},
   "source": [
    "### k-WTAあり"
   ]
  },
  {
   "cell_type": "code",
   "execution_count": 9,
   "metadata": {
    "id": "kDNDkKvacPJM"
   },
   "outputs": [],
   "source": [
    "classifier_kwta = KerasClassifier(model=model_kwta, clip_values=(min_pixel_value, max_pixel_value), use_logits=False)\n",
    "attack_kwta = FastGradientMethod(estimator=classifier_kwta, eps=0.10, targeted=False)\n",
    "X_adv_kwta = attack_kwta.generate(X_test)"
   ]
  },
  {
   "cell_type": "markdown",
   "metadata": {
    "id": "wqsgeVgpcwoJ"
   },
   "source": [
    "## 敵対的画像に対するモデルの精度評価"
   ]
  },
  {
   "cell_type": "markdown",
   "metadata": {},
   "source": [
    "### k-WTAなし"
   ]
  },
  {
   "cell_type": "code",
   "execution_count": null,
   "metadata": {
    "id": "VgplWIjECQud"
   },
   "outputs": [],
   "source": [
    "model.evaluate(X_adv, y_test)"
   ]
  },
  {
   "cell_type": "markdown",
   "metadata": {},
   "source": [
    "### k-WTAあり"
   ]
  },
  {
   "cell_type": "code",
   "execution_count": 10,
   "metadata": {
    "id": "2O14VsPkCVxY"
   },
   "outputs": [
    {
     "data": {
      "text/plain": [
       "[7.108933723449707, 0.1048]"
      ]
     },
     "execution_count": 10,
     "metadata": {},
     "output_type": "execute_result"
    }
   ],
   "source": [
    "model_kwta.evaluate(X_adv_kwta, y_test)"
   ]
  },
  {
   "cell_type": "code",
   "execution_count": null,
   "metadata": {},
   "outputs": [],
   "source": []
  }
 ],
 "metadata": {
  "accelerator": "GPU",
  "colab": {
   "collapsed_sections": [],
   "name": "k-WTA_keras.ipynb",
   "provenance": [],
   "toc_visible": true
  },
  "kernelspec": {
   "display_name": "Python 3 (ipykernel)",
   "language": "python",
   "name": "python3"
  },
  "language_info": {
   "codemirror_mode": {
    "name": "ipython",
    "version": 3
   },
   "file_extension": ".py",
   "mimetype": "text/x-python",
   "name": "python",
   "nbconvert_exporter": "python",
   "pygments_lexer": "ipython3",
   "version": "3.7.11"
  }
 },
 "nbformat": 4,
 "nbformat_minor": 1
}
